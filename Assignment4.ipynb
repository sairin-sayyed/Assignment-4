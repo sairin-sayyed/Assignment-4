{
  "nbformat": 4,
  "nbformat_minor": 0,
  "metadata": {
    "colab": {
      "name": "Assignment4.ipynb",
      "provenance": [],
      "collapsed_sections": []
    },
    "kernelspec": {
      "name": "python3",
      "display_name": "Python 3"
    }
  },
  "cells": [
    {
      "cell_type": "markdown",
      "metadata": {
        "id": "48eEVIG3ESIO"
      },
      "source": [
        "**AASIGNMENT 4**"
      ]
    },
    {
      "cell_type": "markdown",
      "metadata": {
        "id": "Gl2y2RZGEX8Q"
      },
      "source": [
        "QUESTION 1\n",
        "\n",
        "How to import pandas and check the version?"
      ]
    },
    {
      "cell_type": "code",
      "metadata": {
        "id": "1ghtUw9WEddn",
        "outputId": "a331c46f-1f2c-419f-b65b-69b6ff3f9609",
        "colab": {
          "base_uri": "https://localhost:8080/"
        }
      },
      "source": [
        "import pandas as pd\n",
        "print(pd.__version__)"
      ],
      "execution_count": null,
      "outputs": [
        {
          "output_type": "stream",
          "text": [
            "1.1.4\n"
          ],
          "name": "stdout"
        }
      ]
    },
    {
      "cell_type": "markdown",
      "metadata": {
        "id": "icNKr6n0EeK_"
      },
      "source": [
        "QUESTION 2 \n",
        "\n",
        "How to create a series from a numpy array?\n"
      ]
    },
    {
      "cell_type": "code",
      "metadata": {
        "id": "8LVtZ4gAEiPs",
        "outputId": "d2b413c5-3e25-4d8b-a389-2952c69269f4",
        "colab": {
          "base_uri": "https://localhost:8080/"
        }
      },
      "source": [
        "import numpy as np\n",
        "import pandas as pd\n",
        "arr = np.array([\"a\",\"s\",\"i\",\"s\",11,9,10,29,7,'n','h','l','a'])\n",
        "s = pd.Series(arr)\n",
        "print (s)"
      ],
      "execution_count": null,
      "outputs": [
        {
          "output_type": "stream",
          "text": [
            "0      a\n",
            "1      s\n",
            "2      i\n",
            "3      s\n",
            "4     11\n",
            "5      9\n",
            "6     10\n",
            "7     29\n",
            "8      7\n",
            "9      n\n",
            "10     h\n",
            "11     l\n",
            "12     a\n",
            "dtype: object\n"
          ],
          "name": "stdout"
        }
      ]
    },
    {
      "cell_type": "markdown",
      "metadata": {
        "id": "I2_S3U2CEiat"
      },
      "source": [
        "QUESTION 3\n",
        "\n",
        "How to convert the index of a series into a column of a dataframe?"
      ]
    },
    {
      "cell_type": "code",
      "metadata": {
        "id": "BXFdUd0YEmQX",
        "outputId": "9016c826-5881-43fc-d87d-db033e4c32d0",
        "colab": {
          "base_uri": "https://localhost:8080/",
          "height": 173
        }
      },
      "source": [
        "import pandas as pd\n",
        "df = pd.DataFrame({\"Name\":[\"christine\",\"catherine\",\"jungkook\",\"taehyung\"],\"Roll No.\":[1,2,3,4],\"Age\":[21,20,23,25]})\n",
        "df"
      ],
      "execution_count": null,
      "outputs": [
        {
          "output_type": "execute_result",
          "data": {
            "text/html": [
              "<div>\n",
              "<style scoped>\n",
              "    .dataframe tbody tr th:only-of-type {\n",
              "        vertical-align: middle;\n",
              "    }\n",
              "\n",
              "    .dataframe tbody tr th {\n",
              "        vertical-align: top;\n",
              "    }\n",
              "\n",
              "    .dataframe thead th {\n",
              "        text-align: right;\n",
              "    }\n",
              "</style>\n",
              "<table border=\"1\" class=\"dataframe\">\n",
              "  <thead>\n",
              "    <tr style=\"text-align: right;\">\n",
              "      <th></th>\n",
              "      <th>Name</th>\n",
              "      <th>Roll No.</th>\n",
              "      <th>Age</th>\n",
              "    </tr>\n",
              "  </thead>\n",
              "  <tbody>\n",
              "    <tr>\n",
              "      <th>0</th>\n",
              "      <td>christine</td>\n",
              "      <td>1</td>\n",
              "      <td>21</td>\n",
              "    </tr>\n",
              "    <tr>\n",
              "      <th>1</th>\n",
              "      <td>catherine</td>\n",
              "      <td>2</td>\n",
              "      <td>20</td>\n",
              "    </tr>\n",
              "    <tr>\n",
              "      <th>2</th>\n",
              "      <td>jungkook</td>\n",
              "      <td>3</td>\n",
              "      <td>23</td>\n",
              "    </tr>\n",
              "    <tr>\n",
              "      <th>3</th>\n",
              "      <td>taehyung</td>\n",
              "      <td>4</td>\n",
              "      <td>25</td>\n",
              "    </tr>\n",
              "  </tbody>\n",
              "</table>\n",
              "</div>"
            ],
            "text/plain": [
              "        Name  Roll No.  Age\n",
              "0  christine         1   21\n",
              "1  catherine         2   20\n",
              "2   jungkook         3   23\n",
              "3   taehyung         4   25"
            ]
          },
          "metadata": {
            "tags": []
          },
          "execution_count": 12
        }
      ]
    },
    {
      "cell_type": "markdown",
      "metadata": {
        "id": "REVqxql7Emga"
      },
      "source": [
        "QUESTION 4\n",
        "\n",
        "Write the code to list all the datasets available in seaborn library.\n",
        "Load the 'mpg' dataset\n",
        "Note: mpg dataset will be read from seaborn module in the manner sir has already shown(provided in the\n",
        "materials folder)"
      ]
    },
    {
      "cell_type": "code",
      "metadata": {
        "id": "kD-Y0ktLEsDY",
        "outputId": "fab03f8f-f1f0-4a6c-ac9f-8a63806de7a7",
        "colab": {
          "base_uri": "https://localhost:8080/",
          "height": 204
        }
      },
      "source": [
        "import seaborn as sns\n",
        "tips = sns.load_dataset('tips')\n",
        "tips.head()"
      ],
      "execution_count": null,
      "outputs": [
        {
          "output_type": "execute_result",
          "data": {
            "text/html": [
              "<div>\n",
              "<style scoped>\n",
              "    .dataframe tbody tr th:only-of-type {\n",
              "        vertical-align: middle;\n",
              "    }\n",
              "\n",
              "    .dataframe tbody tr th {\n",
              "        vertical-align: top;\n",
              "    }\n",
              "\n",
              "    .dataframe thead th {\n",
              "        text-align: right;\n",
              "    }\n",
              "</style>\n",
              "<table border=\"1\" class=\"dataframe\">\n",
              "  <thead>\n",
              "    <tr style=\"text-align: right;\">\n",
              "      <th></th>\n",
              "      <th>total_bill</th>\n",
              "      <th>tip</th>\n",
              "      <th>sex</th>\n",
              "      <th>smoker</th>\n",
              "      <th>day</th>\n",
              "      <th>time</th>\n",
              "      <th>size</th>\n",
              "    </tr>\n",
              "  </thead>\n",
              "  <tbody>\n",
              "    <tr>\n",
              "      <th>0</th>\n",
              "      <td>16.99</td>\n",
              "      <td>1.01</td>\n",
              "      <td>Female</td>\n",
              "      <td>No</td>\n",
              "      <td>Sun</td>\n",
              "      <td>Dinner</td>\n",
              "      <td>2</td>\n",
              "    </tr>\n",
              "    <tr>\n",
              "      <th>1</th>\n",
              "      <td>10.34</td>\n",
              "      <td>1.66</td>\n",
              "      <td>Male</td>\n",
              "      <td>No</td>\n",
              "      <td>Sun</td>\n",
              "      <td>Dinner</td>\n",
              "      <td>3</td>\n",
              "    </tr>\n",
              "    <tr>\n",
              "      <th>2</th>\n",
              "      <td>21.01</td>\n",
              "      <td>3.50</td>\n",
              "      <td>Male</td>\n",
              "      <td>No</td>\n",
              "      <td>Sun</td>\n",
              "      <td>Dinner</td>\n",
              "      <td>3</td>\n",
              "    </tr>\n",
              "    <tr>\n",
              "      <th>3</th>\n",
              "      <td>23.68</td>\n",
              "      <td>3.31</td>\n",
              "      <td>Male</td>\n",
              "      <td>No</td>\n",
              "      <td>Sun</td>\n",
              "      <td>Dinner</td>\n",
              "      <td>2</td>\n",
              "    </tr>\n",
              "    <tr>\n",
              "      <th>4</th>\n",
              "      <td>24.59</td>\n",
              "      <td>3.61</td>\n",
              "      <td>Female</td>\n",
              "      <td>No</td>\n",
              "      <td>Sun</td>\n",
              "      <td>Dinner</td>\n",
              "      <td>4</td>\n",
              "    </tr>\n",
              "  </tbody>\n",
              "</table>\n",
              "</div>"
            ],
            "text/plain": [
              "   total_bill   tip     sex smoker  day    time  size\n",
              "0       16.99  1.01  Female     No  Sun  Dinner     2\n",
              "1       10.34  1.66    Male     No  Sun  Dinner     3\n",
              "2       21.01  3.50    Male     No  Sun  Dinner     3\n",
              "3       23.68  3.31    Male     No  Sun  Dinner     2\n",
              "4       24.59  3.61  Female     No  Sun  Dinner     4"
            ]
          },
          "metadata": {
            "tags": []
          },
          "execution_count": 15
        }
      ]
    },
    {
      "cell_type": "markdown",
      "metadata": {
        "id": "KDkcemipEsNT"
      },
      "source": [
        "QUESTION 5\n",
        "\n",
        "Which country origin cars are a part of this dataset?\n"
      ]
    },
    {
      "cell_type": "code",
      "metadata": {
        "id": "xscqeXIOEwzX",
        "outputId": "c588a460-cec9-4fa0-a01b-2a30c83187cd",
        "colab": {
          "base_uri": "https://localhost:8080/",
          "height": 235
        }
      },
      "source": [
        "import pandas as pd\n",
        "df = pd.DataFrame({\"Cars\":[\"Toyota\",\"Renault- Nissan Alliance\",\"volkswagen Group\",\"Hyundai-kai\",\"Ford\",\"Fiat\"],\"Origin Countries\":[\"Japan\",\"Japan-France\",\"Germany\",\"South Korea\",\"USA\",\"Italy\"],\"Founded By\":[\"Kiichiro Toyoda\",\"Yokohawa-Kanagawa\",\"German Labour Front\",\"Chung Ju-yung\",\"Henry Ford\",\"Giovanni Agnelli\"]})\n",
        "df"
      ],
      "execution_count": 3,
      "outputs": [
        {
          "output_type": "execute_result",
          "data": {
            "text/html": [
              "<div>\n",
              "<style scoped>\n",
              "    .dataframe tbody tr th:only-of-type {\n",
              "        vertical-align: middle;\n",
              "    }\n",
              "\n",
              "    .dataframe tbody tr th {\n",
              "        vertical-align: top;\n",
              "    }\n",
              "\n",
              "    .dataframe thead th {\n",
              "        text-align: right;\n",
              "    }\n",
              "</style>\n",
              "<table border=\"1\" class=\"dataframe\">\n",
              "  <thead>\n",
              "    <tr style=\"text-align: right;\">\n",
              "      <th></th>\n",
              "      <th>Cars</th>\n",
              "      <th>Origin Countries</th>\n",
              "      <th>Founded By</th>\n",
              "    </tr>\n",
              "  </thead>\n",
              "  <tbody>\n",
              "    <tr>\n",
              "      <th>0</th>\n",
              "      <td>Toyota</td>\n",
              "      <td>Japan</td>\n",
              "      <td>Kiichiro Toyoda</td>\n",
              "    </tr>\n",
              "    <tr>\n",
              "      <th>1</th>\n",
              "      <td>Renault- Nissan Alliance</td>\n",
              "      <td>Japan-France</td>\n",
              "      <td>Yokohawa-Kanagawa</td>\n",
              "    </tr>\n",
              "    <tr>\n",
              "      <th>2</th>\n",
              "      <td>volkswagen Group</td>\n",
              "      <td>Germany</td>\n",
              "      <td>German Labour Front</td>\n",
              "    </tr>\n",
              "    <tr>\n",
              "      <th>3</th>\n",
              "      <td>Hyundai-kai</td>\n",
              "      <td>South Korea</td>\n",
              "      <td>Chung Ju-yung</td>\n",
              "    </tr>\n",
              "    <tr>\n",
              "      <th>4</th>\n",
              "      <td>Ford</td>\n",
              "      <td>USA</td>\n",
              "      <td>Henry Ford</td>\n",
              "    </tr>\n",
              "    <tr>\n",
              "      <th>5</th>\n",
              "      <td>Fiat</td>\n",
              "      <td>Italy</td>\n",
              "      <td>Giovanni Agnelli</td>\n",
              "    </tr>\n",
              "  </tbody>\n",
              "</table>\n",
              "</div>"
            ],
            "text/plain": [
              "                       Cars Origin Countries           Founded By\n",
              "0                    Toyota            Japan      Kiichiro Toyoda\n",
              "1  Renault- Nissan Alliance     Japan-France    Yokohawa-Kanagawa\n",
              "2          volkswagen Group          Germany  German Labour Front\n",
              "3               Hyundai-kai      South Korea        Chung Ju-yung\n",
              "4                      Ford              USA           Henry Ford\n",
              "5                      Fiat            Italy     Giovanni Agnelli"
            ]
          },
          "metadata": {
            "tags": []
          },
          "execution_count": 3
        }
      ]
    },
    {
      "cell_type": "markdown",
      "metadata": {
        "id": "p-VN1phyEw9H"
      },
      "source": [
        "QUESTION 6\n",
        "\n",
        "Extract the part of the dataframe which contains cars belonging to 'usa'"
      ]
    },
    {
      "cell_type": "code",
      "metadata": {
        "id": "GMvaFjjoE3RZ",
        "outputId": "1042cd10-b883-4075-dd02-962dbe572960",
        "colab": {
          "base_uri": "https://localhost:8080/",
          "height": 35
        }
      },
      "source": [
        "import pandas as pd\n",
        "df = pd.DataFrame({\"Cars\":[\"Toyota\",\"Renault- Nissan Alliance\",\"volkswagen Group\",\"Hyundai-kai\",\"Ford\",\"Fiat\"],\"Origin Countries\":[\"Japan\",\"Japan-France\",\"Germany\",\"South Korea\",\"USA\",\"Italy\"],\"Founded By\":[\"Kiichiro Toyoda\",\"Yokohawa-Kanagawa\",\"German Labour Front\",\"Chung Ju-yung\",\"Henry Ford\",\"Giovanni Agnelli\"]})\n",
        "df\n",
        "df.loc[4,\"Origin Countries\"]"
      ],
      "execution_count": 24,
      "outputs": [
        {
          "output_type": "execute_result",
          "data": {
            "application/vnd.google.colaboratory.intrinsic+json": {
              "type": "string"
            },
            "text/plain": [
              "'USA'"
            ]
          },
          "metadata": {
            "tags": []
          },
          "execution_count": 24
        }
      ]
    }
  ]
}